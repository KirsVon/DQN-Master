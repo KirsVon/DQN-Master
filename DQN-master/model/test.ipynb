{
 "cells": [
  {
   "cell_type": "code",
   "execution_count": 2,
   "outputs": [],
   "source": [
    "import torch\n",
    "from torch import nn\n",
    "\n",
    "#建立词向量层\n",
    "embedding = nn.Embedding(10, 3)\n",
    "input = torch.LongTensor([[1,2,4,5],[4,3,2,9]])"
   ],
   "metadata": {
    "collapsed": false,
    "pycharm": {
     "name": "#%%\n"
    }
   }
  },
  {
   "cell_type": "code",
   "execution_count": 3,
   "outputs": [
    {
     "data": {
      "text/plain": "tensor([[[ 0.3128, -0.5044,  2.0763],\n         [-0.6077, -0.6650,  1.6339],\n         [ 0.2444, -0.5374, -1.7831],\n         [ 0.9348,  0.4889, -1.2868]],\n\n        [[ 0.2444, -0.5374, -1.7831],\n         [ 0.4425, -0.1983,  0.3398],\n         [-0.6077, -0.6650,  1.6339],\n         [ 0.3346, -2.1781,  1.3258]]], grad_fn=<EmbeddingBackward0>)"
     },
     "execution_count": 3,
     "metadata": {},
     "output_type": "execute_result"
    }
   ],
   "source": [
    "embedding(input)"
   ],
   "metadata": {
    "collapsed": false,
    "pycharm": {
     "name": "#%%\n"
    }
   }
  },
  {
   "cell_type": "code",
   "execution_count": 4,
   "outputs": [
    {
     "data": {
      "text/plain": "Parameter containing:\ntensor([[ 0.7625, -0.9429,  0.6089],\n        [ 0.3128, -0.5044,  2.0763],\n        [-0.6077, -0.6650,  1.6339],\n        [ 0.4425, -0.1983,  0.3398],\n        [ 0.2444, -0.5374, -1.7831],\n        [ 0.9348,  0.4889, -1.2868],\n        [ 0.6794, -1.1540,  0.3649],\n        [ 0.2196, -1.6245,  0.4682],\n        [-0.1587, -0.6866, -1.5581],\n        [ 0.3346, -2.1781,  1.3258]], requires_grad=True)"
     },
     "execution_count": 4,
     "metadata": {},
     "output_type": "execute_result"
    }
   ],
   "source": [
    "embedding.weight"
   ],
   "metadata": {
    "collapsed": false,
    "pycharm": {
     "name": "#%%\n"
    }
   }
  },
  {
   "cell_type": "code",
   "execution_count": 5,
   "outputs": [
    {
     "data": {
      "text/plain": "tensor([[1, 2, 4, 5],\n        [4, 3, 2, 9]])"
     },
     "execution_count": 5,
     "metadata": {},
     "output_type": "execute_result"
    }
   ],
   "source": [
    "input"
   ],
   "metadata": {
    "collapsed": false,
    "pycharm": {
     "name": "#%%\n"
    }
   }
  },
  {
   "cell_type": "code",
   "execution_count": 6,
   "outputs": [],
   "source": [
    "a = embedding(input)"
   ],
   "metadata": {
    "collapsed": false,
    "pycharm": {
     "name": "#%%\n"
    }
   }
  },
  {
   "cell_type": "code",
   "execution_count": 7,
   "outputs": [
    {
     "data": {
      "text/plain": "tensor([[[ 0.3128, -0.5044,  2.0763],\n         [-0.6077, -0.6650,  1.6339],\n         [ 0.2444, -0.5374, -1.7831],\n         [ 0.9348,  0.4889, -1.2868]],\n\n        [[ 0.2444, -0.5374, -1.7831],\n         [ 0.4425, -0.1983,  0.3398],\n         [-0.6077, -0.6650,  1.6339],\n         [ 0.3346, -2.1781,  1.3258]]], grad_fn=<EmbeddingBackward0>)"
     },
     "execution_count": 7,
     "metadata": {},
     "output_type": "execute_result"
    }
   ],
   "source": [
    "a"
   ],
   "metadata": {
    "collapsed": false,
    "pycharm": {
     "name": "#%%\n"
    }
   }
  },
  {
   "cell_type": "code",
   "execution_count": 8,
   "outputs": [
    {
     "data": {
      "text/plain": "torch.Size([2, 4, 3])"
     },
     "execution_count": 8,
     "metadata": {},
     "output_type": "execute_result"
    }
   ],
   "source": [
    "a.size()"
   ],
   "metadata": {
    "collapsed": false,
    "pycharm": {
     "name": "#%%\n"
    }
   }
  },
  {
   "cell_type": "code",
   "execution_count": null,
   "outputs": [],
   "source": [],
   "metadata": {
    "collapsed": false,
    "pycharm": {
     "name": "#%%\n"
    }
   }
  }
 ],
 "metadata": {
  "kernelspec": {
   "display_name": "Python 3",
   "language": "python",
   "name": "python3"
  },
  "language_info": {
   "codemirror_mode": {
    "name": "ipython",
    "version": 2
   },
   "file_extension": ".py",
   "mimetype": "text/x-python",
   "name": "python",
   "nbconvert_exporter": "python",
   "pygments_lexer": "ipython2",
   "version": "2.7.6"
  }
 },
 "nbformat": 4,
 "nbformat_minor": 0
}